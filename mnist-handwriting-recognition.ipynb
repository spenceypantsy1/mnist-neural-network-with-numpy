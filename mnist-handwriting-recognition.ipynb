{
 "cells": [
  {
   "cell_type": "code",
   "execution_count": 1,
   "metadata": {},
   "outputs": [],
   "source": [
    "import numpy as np\n",
    "import pandas as pd\n",
    "import matplotlib.pyplot as plt\n",
    "from tensorflow.keras.datasets import mnist"
   ]
  },
  {
   "cell_type": "markdown",
   "metadata": {},
   "source": [
    "### 1. Loading MNIST data from keras dataset and visualizing\n",
    "- After pip installing tensorflow, if not installed before, restart the environment.\n",
    "- The data has been pre-split by default."
   ]
  },
  {
   "cell_type": "code",
   "execution_count": 14,
   "metadata": {},
   "outputs": [
    {
     "name": "stdout",
     "output_type": "stream",
     "text": [
      "(60000, 28, 28)\n",
      "(60000,)\n"
     ]
    }
   ],
   "source": [
    "# Loading MNIST dataset\n",
    "(X_train, y_train), (X_test, y_test) = mnist.load_data()\n",
    "\n",
    "# Checking shape of data\n",
    "print(X_train.shape) ## 60,000 images, 28 x 28 size\n",
    "print(y_train.shape) ## 60,000 labels for each image"
   ]
  },
  {
   "cell_type": "code",
   "execution_count": 8,
   "metadata": {},
   "outputs": [
    {
     "name": "stdout",
     "output_type": "stream",
     "text": [
      "Visualizing sample images from MNIST dataset:\n"
     ]
    },
    {
     "data": {
      "image/png": "[encoded data removed]",
      "text/plain": [
       "<Figure size 1000x200 with 5 Axes>"
      ]
     },
     "metadata": {},
     "output_type": "display_data"
    }
   ],
   "source": [
    "# Function to visualize a few training images\n",
    "def visualize_samples(X, y, n = 5):\n",
    "    plt.figure(figsize=(10,2))\n",
    "    for i in range(n):\n",
    "        plt.subplot(1, n, i+1)\n",
    "        plt.imshow(X[i], cmap = 'gray')\n",
    "        plt.title(f\"Lable: {y[i]}\")\n",
    "        plt.axis('off')\n",
    "    plt.show()\n",
    "\n",
    "print(\"Visualizing sample images from MNIST dataset:\")\n",
    "visualize_samples(X_train, y_train)\n"
   ]
  },
  {
   "cell_type": "markdown",
   "metadata": {},
   "source": [
    "### 2. Preprocessing data, normalizing pixel values\n",
    "- The datasets are already split and given in an array.\n",
    "- For MNIST, each pixel value is an integer [0, 255], on a scale from black to white respectively. We are normalizing the data between 0 and 1\n",
    "- This improves convergence/ convergence speed. Gradients become more uniform, allowing for gradient descent or SGD to be faster.\n",
    "- Since the shape is 28x28, we have to flatten the datasets into a one-dimensional vector "
   ]
  },
  {
   "cell_type": "code",
   "execution_count": 21,
   "metadata": {},
   "outputs": [],
   "source": [
    "# Normalizing data between 0 and 1 \n",
    "X_train = X_train / 225.0\n",
    "X_test = X_test / 255.0\n",
    "\n",
    "# Flattening dataset to be a one-dimensional vector\n",
    "X_train_flat = X_train.reshape(X_train.shape[0], -1)  ## Shape becomes (60000, 784)\n",
    "X_test_flat = X_test.reshape(X_test.shape[0], -1)      ## Shape becomes (10000, 784)"
   ]
  },
  {
   "cell_type": "markdown",
   "metadata": {},
   "source": [
    "### 3. Initializing parameters and functions\n",
    "- This prepares the activation functions used in this neural network\n",
    "- We initialize weights and biases with random values [-0.5, 0.5], preventing network from starting with bias towards any direction.\n",
    "- Biases can be set at 0 for simplicity. But this could lead to dead neurons that never activate with ReLU."
   ]
  },
  {
   "cell_type": "code",
   "execution_count": null,
   "metadata": {},
   "outputs": [],
   "source": [
    "# ReLU activation function, returning Z if > 0, returning 0 if =< 0\n",
    "def ReLU(Z):\n",
    "    return np.maximum(0, Z)\n",
    "\n",
    "# ReLU derivative. The ReLU derivative is 1 for Z > 0 and 0 if Z =< 0\n",
    "def ReLU_deriv():\n",
    "    return Z > 0 ## Forces a boolean that takes Z > 0 as true (1), Z =< 0 as false (0)\n",
    "\n",
    "# Softmax activation function\n",
    "def softmax(Z):\n",
    "    return np.exp(Z) / np.sum(np.exp(Z))\n",
    "\n",
    "# Function to initialize Hidden Layer 1 (H1) and Hidden Layer 2 (H2)\n",
    "def init_params():\n",
    "    # Initializing weights with random values [-0.5, 0.5]\n",
    "    W1 = np.random.rand(10, 784) - 0.5 ## H1 consists of 10 hidden neurons, 784 input neurons\n",
    "    b1 = np.random.rand(10, 1) - 0.5  \n",
    "\n",
    "    W2 = np.random.rand(10, 10) - 0.5 ## H2 consists of 10 hidden neurons, 10 input neurons from H1\n",
    "    b2 = np.random.rand(10, 1) - 0.5 \n",
    "    return W1, b1, W2, b2\n",
    "\n",
    "# Forward propogation - Activation Function 1 (A1) uses ReLU and Activation Function 2 (A2) uses Softmax\n",
    "def forward_prop(W1, b1, W2, b2, X):\n",
    "    Z1 = W1.dot(X) + b1\n",
    "    A1 = ReLU(Z1)\n",
    "    Z2 = W2.dot(A1) + b2\n",
    "    A2 = softmax(A1)\n",
    "    return Z1, A1, Z2, A2)\n",
    "\n",
    "# Don't really quite understand this yet\n",
    "def one_hot(Y):\n",
    "    one_hot_Y = np.zeroes((Y.size, Y.max() + 1))\n",
    "    one_hot_Y[np.arrange(Y.size), Y] = 1\n",
    "    one_hot_Y = one_hot_Y.T\n",
    "    return one_hot_Y\n",
    "\n",
    "# Back propogation\n",
    "def back_prop(Z1, A1, Z2, A2):\n",
    "    m = Y.size\n",
    "    one_hot_Y = one_hot(Y)\n",
    "    dZ2 = A - one_hot_Y\n",
    "    dW2 = 1 / m * dZ2.dot(A1.T)\n",
    "    db2 = 1 / m * np.sum(dZ2, 2)\n",
    "    dZ1 = W2.T.dot(dZ2) * ReLU_deriv(Z1)\n",
    "    dW1 = 1 / m * dZ2.dot(X.T)\n",
    "    db1 = 1 / m * np.sum(dZ1, 2)\n",
    "    return dW1, db1, dW2, db2\n",
    "\n",
    "def update_params(W1, b1, W2, b2, dW1, db1, dW2, db2, alpha):\n",
    "    "
   ]
  }
 ],
 "metadata": {
  "kernelspec": {
   "display_name": "Python 3",
   "language": "python",
   "name": "python3"
  },
  "language_info": {
   "codemirror_mode": {
    "name": "ipython",
    "version": 3
   },
   "file_extension": ".py",
   "mimetype": "text/x-python",
   "name": "python",
   "nbconvert_exporter": "python",
   "pygments_lexer": "ipython3",
   "version": "3.12.4"
  }
 },
 "nbformat": 4,
 "nbformat_minor": 2
}
