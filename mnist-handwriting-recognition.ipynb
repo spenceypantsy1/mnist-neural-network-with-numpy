{
 "cells": [
  {
   "cell_type": "code",
   "execution_count": 1,
   "metadata": {},
   "outputs": [],
   "source": [
    "import numpy as np\n",
    "import pandas as pd\n",
    "import matplotlib.pyplot as plt\n",
    "from tensorflow.keras.datasets import mnist"
   ]
  },
  {
   "cell_type": "markdown",
   "metadata": {},
   "source": [
    "### 1. Loading MNIST data from keras dataset and visualizing\n",
    "- After pip installing tensorflow, if not installed before, restart the environment.\n",
    "- The data has been pre-split by default."
   ]
  },
  {
   "cell_type": "code",
   "execution_count": 2,
   "metadata": {},
   "outputs": [
    {
     "name": "stdout",
     "output_type": "stream",
     "text": [
      "(60000, 28, 28)\n",
      "(60000,)\n"
     ]
    }
   ],
   "source": [
    "# Loading MNIST dataset\n",
    "(X_train, y_train), (X_test, y_test) = mnist.load_data()\n",
    "\n",
    "# Checking shape of data\n",
    "print(X_train.shape) ## 60,000 images, 28 x 28 size\n",
    "print(y_train.shape) ## 60,000 labels for each image"
   ]
  },
  {
   "cell_type": "code",
   "execution_count": 3,
   "metadata": {},
   "outputs": [
    {
     "name": "stdout",
     "output_type": "stream",
     "text": [
      "Visualizing sample images from MNIST dataset:\n"
     ]
    },
    {
     "data": {
      "image/png": "[encoded data removed]",
      "text/plain": [
       "<Figure size 1000x200 with 5 Axes>"
      ]
     },
     "metadata": {},
     "output_type": "display_data"
    }
   ],
   "source": [
    "# Function to visualize a few training images\n",
    "def visualize_samples(X, y, n = 5):\n",
    "    plt.figure(figsize=(10,2))\n",
    "    for i in range(n):\n",
    "        plt.subplot(1, n, i+1)\n",
    "        plt.imshow(X[i], cmap = 'gray')\n",
    "        plt.title(f\"Lable: {y[i]}\")\n",
    "        plt.axis('off')\n",
    "    plt.show()\n",
    "\n",
    "print(\"Visualizing sample images from MNIST dataset:\")\n",
    "visualize_samples(X_train, y_train)\n"
   ]
  },
  {
   "cell_type": "markdown",
   "metadata": {},
   "source": [
    "### 2. Preprocessing data, normalizing pixel values\n",
    "- The datasets are already split and given in an array.\n",
    "- For MNIST, each pixel value is an integer [0, 255], on a scale from black to white respectively. We are normalizing the data between 0 and 1\n",
    "- This improves convergence/ convergence speed. Gradients become more uniform, allowing for gradient descent or SGD to be faster.\n",
    "- Since the shape is 28x28, we have to flatten the datasets into a one-dimensional vector "
   ]
  },
  {
   "cell_type": "code",
   "execution_count": 4,
   "metadata": {},
   "outputs": [],
   "source": [
    "# Normalizing data between 0 and 1 \n",
    "X_train = X_train / 255.0\n",
    "X_test = X_test / 255.0\n",
    "\n",
    "# Flattening dataset to be a one-dimensional vector\n",
    "X_train_flat = X_train.reshape(X_train.shape[0], -1).T  ## Shape becomes (784, 60000)\n",
    "X_test_flat = X_test.reshape(X_test.shape[0], -1).T      ## Shape becomes (784, 60000)"
   ]
  },
  {
   "cell_type": "markdown",
   "metadata": {},
   "source": [
    "### 3. Initializing parameters and functions\n",
    "- This prepares the activation functions used in this neural network\n",
    "- We initialize weights and biases with random values [-0.5, 0.5], preventing network from starting with bias towards any direction.\n",
    "- Biases can be set at 0 for simplicity. But this could lead to dead neurons that never activate with ReLU."
   ]
  },
  {
   "cell_type": "code",
   "execution_count": 5,
   "metadata": {},
   "outputs": [],
   "source": [
    "# ReLU activation function, returning Z if > 0, returning 0 if =< 0\n",
    "def ReLU(Z):\n",
    "    return np.maximum(Z,0)\n",
    "\n",
    "# ReLU derivative. The ReLU derivative is 1 for Z > 0 and 0 if Z =< 0\n",
    "def ReLU_deriv(Z):\n",
    "    return Z > 0 ## Forces a boolean that takes Z > 0 as true (1), Z =< 0 as false (0)\n",
    "\n",
    "# Softmax activation function\n",
    "def softmax(Z):\n",
    "    return np.exp(Z) / sum(np.exp(Z))\n",
    "\n",
    "# Function to initialize Hidden Layer 1 (H1) and Hidden Layer 2 (H2)\n",
    "def init_params():\n",
    "    # Initializing weights with random values [-0.5, 0.5]\n",
    "    W1 = np.random.rand(10, 784) - 0.5 ## H1 consists of 10 hidden neurons, 784 input neurons\n",
    "    b1 = np.random.rand(10, 1) - 0.5  \n",
    "\n",
    "    W2 = np.random.rand(10, 10) - 0.5 ## H2 consists of 10 hidden neurons, 10 input neurons from H1\n",
    "    b2 = np.random.rand(10, 1) - 0.5 \n",
    "    return W1, b1, W2, b2\n",
    "\n",
    "# Forward propogation - Output of H1 (A1) uses ReLU and output of H2 (A2) uses Softmax\n",
    "def forward_prop(W1, b1, W2, b2, X):\n",
    "    Z1 = W1.dot(X) + b1\n",
    "    A1 = ReLU(Z1) ## H1 output after activation function\n",
    "    Z2 = W2.dot(A1) + b2\n",
    "    A2 = softmax(Z2) ## H2 output after activation function\n",
    "    return Z1, A1, Z2, A2\n",
    "\n",
    "# One-hot encoding output, Y, a matrix where column represents individual Y predictions [0, 1, 0, .....]\n",
    "def one_hot(Y):\n",
    "    # Creates a matrix of zeros with dimensions (no. of labels, no. of classes)\n",
    "    one_hot_Y = np.zeros((Y.size, Y.max() + 1)) ## Y.size should be 60,000 labels, number of classes is 10, from 0 to 9 (Y.max=9 therefore +1)\n",
    "    # Converts 0 matrix into one-hot encoded matrix\n",
    "    one_hot_Y[np.arange(Y.size), Y] = 1 ## This replaces 0 with 1 depending on Y value. If Y = 1, the specific row vector is [0,1,0,0.....]\n",
    "    # Takes transpose of one_hot_Y above\n",
    "    one_hot_Y = one_hot_Y.T ## the row vector becomes a column vector\n",
    "    return one_hot_Y\n",
    "\n",
    "# Back propogation\n",
    "def back_prop(Z1, A1, Z2, A2, W1, W2, X, Y):\n",
    "    # The loss function is not neccessary to indicate because cross-entropy loss is combined from using softmax function!\n",
    "    m = Y.size ## m is size of dataset, 60,000\n",
    "    one_hot_Y = one_hot(Y) \n",
    "    dZ2 = A2 - one_hot_Y ## Difference between predicted output, A2 and Y prediction (the residual)\n",
    "    dW2 = 1 / m * dZ2.dot(A1.T) ## Matrix multiplcation of dZ2 and A1, giving us the gradient of loss wrt w2, over the size of 60,000\n",
    "    db2 = 1 / m * np.sum(dZ2) ## Gradient of loss function wrt to bias term b2\n",
    "    dZ1 = W2.T.dot(dZ2) * ReLU_deriv(Z1)\n",
    "    dW1 = 1 / m * dZ1.dot(X.T)\n",
    "    db1 = 1 / m * np.sum(dZ1)\n",
    "    return dW1, db1, dW2, db2\n",
    "\n",
    "# Updating parameters after back prop\n",
    "def update_params(W1, b1, W2, b2, dW1, db1, dW2, db2, alpha):\n",
    "    W1 = W1 - alpha * dW1\n",
    "    b1 = b1 - alpha * db1\n",
    "    W2 = W2 - alpha * dW2\n",
    "    b2 = b2 - alpha * db2\n",
    "    return W1, b1, W2, b2"
   ]
  },
  {
   "cell_type": "markdown",
   "metadata": {},
   "source": [
    "### 4.0 Defining our gradient descent\n",
    "- The following cell calls all the parameters and predictions calculated above to perform batch gradient descent."
   ]
  },
  {
   "cell_type": "code",
   "execution_count": 6,
   "metadata": {},
   "outputs": [
    {
     "name": "stdout",
     "output_type": "stream",
     "text": [
      "Iteration:  0\n",
      "[3 9 5 ... 3 0 1] [5 0 4 ... 5 6 8]\n",
      "Accuracy:  0.12926666666666667\n",
      "Iteration:  10\n",
      "[4 6 5 ... 5 0 1] [5 0 4 ... 5 6 8]\n",
      "Accuracy:  0.2183\n",
      "Iteration:  20\n",
      "[4 6 4 ... 5 6 1] [5 0 4 ... 5 6 8]\n",
      "Accuracy:  0.2804\n",
      "Iteration:  30\n",
      "[4 6 4 ... 5 6 1] [5 0 4 ... 5 6 8]\n",
      "Accuracy:  0.3294666666666667\n",
      "Iteration:  40\n",
      "[4 6 4 ... 9 6 1] [5 0 4 ... 5 6 8]\n",
      "Accuracy:  0.36761666666666665\n",
      "Iteration:  50\n",
      "[4 0 4 ... 9 6 1] [5 0 4 ... 5 6 8]\n",
      "Accuracy:  0.4038333333333333\n",
      "Iteration:  60\n",
      "[8 0 4 ... 9 6 1] [5 0 4 ... 5 6 8]\n",
      "Accuracy:  0.44525\n",
      "Iteration:  70\n",
      "[8 0 4 ... 9 6 1] [5 0 4 ... 5 6 8]\n",
      "Accuracy:  0.49211666666666665\n",
      "Iteration:  80\n",
      "[5 0 4 ... 9 6 1] [5 0 4 ... 5 6 8]\n",
      "Accuracy:  0.5343833333333333\n",
      "Iteration:  90\n",
      "[5 0 4 ... 9 6 1] [5 0 4 ... 5 6 8]\n",
      "Accuracy:  0.5675166666666667\n",
      "Iteration:  100\n",
      "[5 0 4 ... 9 6 1] [5 0 4 ... 5 6 8]\n",
      "Accuracy:  0.5956\n",
      "Iteration:  110\n",
      "[5 0 4 ... 9 6 8] [5 0 4 ... 5 6 8]\n",
      "Accuracy:  0.6191\n",
      "Iteration:  120\n",
      "[5 0 4 ... 9 6 8] [5 0 4 ... 5 6 8]\n",
      "Accuracy:  0.6400833333333333\n",
      "Iteration:  130\n",
      "[5 0 4 ... 5 6 8] [5 0 4 ... 5 6 8]\n",
      "Accuracy:  0.6578166666666667\n",
      "Iteration:  140\n",
      "[5 0 4 ... 5 6 8] [5 0 4 ... 5 6 8]\n",
      "Accuracy:  0.6737\n",
      "Iteration:  150\n",
      "[5 0 4 ... 5 6 8] [5 0 4 ... 5 6 8]\n",
      "Accuracy:  0.6860333333333334\n",
      "Iteration:  160\n",
      "[5 0 4 ... 5 6 8] [5 0 4 ... 5 6 8]\n",
      "Accuracy:  0.6977666666666666\n",
      "Iteration:  170\n",
      "[5 0 4 ... 5 6 8] [5 0 4 ... 5 6 8]\n",
      "Accuracy:  0.7079666666666666\n",
      "Iteration:  180\n",
      "[5 0 4 ... 5 6 8] [5 0 4 ... 5 6 8]\n",
      "Accuracy:  0.7174\n",
      "Iteration:  190\n",
      "[5 0 4 ... 5 6 8] [5 0 4 ... 5 6 8]\n",
      "Accuracy:  0.7258666666666667\n",
      "Iteration:  200\n",
      "[5 0 4 ... 5 6 8] [5 0 4 ... 5 6 8]\n",
      "Accuracy:  0.7326666666666667\n",
      "Iteration:  210\n",
      "[5 0 4 ... 5 6 8] [5 0 4 ... 5 6 8]\n",
      "Accuracy:  0.7401333333333333\n",
      "Iteration:  220\n",
      "[5 0 4 ... 5 6 8] [5 0 4 ... 5 6 8]\n",
      "Accuracy:  0.7467\n",
      "Iteration:  230\n",
      "[5 0 4 ... 5 6 8] [5 0 4 ... 5 6 8]\n",
      "Accuracy:  0.7530166666666667\n",
      "Iteration:  240\n",
      "[5 0 4 ... 5 6 8] [5 0 4 ... 5 6 8]\n",
      "Accuracy:  0.75875\n",
      "Iteration:  250\n",
      "[5 0 4 ... 5 6 8] [5 0 4 ... 5 6 8]\n",
      "Accuracy:  0.7644166666666666\n",
      "Iteration:  260\n",
      "[5 0 4 ... 5 6 8] [5 0 4 ... 5 6 8]\n",
      "Accuracy:  0.76915\n",
      "Iteration:  270\n",
      "[5 0 4 ... 5 6 8] [5 0 4 ... 5 6 8]\n",
      "Accuracy:  0.7739666666666667\n",
      "Iteration:  280\n",
      "[5 0 4 ... 5 6 8] [5 0 4 ... 5 6 8]\n",
      "Accuracy:  0.7781166666666667\n",
      "Iteration:  290\n",
      "[5 0 4 ... 5 6 8] [5 0 4 ... 5 6 8]\n",
      "Accuracy:  0.7822166666666667\n",
      "Iteration:  300\n",
      "[5 0 4 ... 5 6 8] [5 0 4 ... 5 6 8]\n",
      "Accuracy:  0.7865166666666666\n",
      "Iteration:  310\n",
      "[5 0 4 ... 5 6 8] [5 0 4 ... 5 6 8]\n",
      "Accuracy:  0.7905166666666666\n",
      "Iteration:  320\n",
      "[5 0 4 ... 5 6 8] [5 0 4 ... 5 6 8]\n",
      "Accuracy:  0.7935166666666666\n",
      "Iteration:  330\n",
      "[5 0 4 ... 5 6 8] [5 0 4 ... 5 6 8]\n",
      "Accuracy:  0.7967833333333333\n",
      "Iteration:  340\n",
      "[5 0 4 ... 5 6 8] [5 0 4 ... 5 6 8]\n",
      "Accuracy:  0.7998166666666666\n",
      "Iteration:  350\n",
      "[5 0 4 ... 5 6 8] [5 0 4 ... 5 6 8]\n",
      "Accuracy:  0.80215\n",
      "Iteration:  360\n",
      "[5 0 4 ... 5 6 8] [5 0 4 ... 5 6 8]\n",
      "Accuracy:  0.8048166666666666\n",
      "Iteration:  370\n",
      "[5 0 4 ... 5 6 8] [5 0 4 ... 5 6 8]\n",
      "Accuracy:  0.8074\n",
      "Iteration:  380\n",
      "[5 0 4 ... 5 6 8] [5 0 4 ... 5 6 8]\n",
      "Accuracy:  0.8099333333333333\n",
      "Iteration:  390\n",
      "[5 0 4 ... 5 6 8] [5 0 4 ... 5 6 8]\n",
      "Accuracy:  0.8127666666666666\n",
      "Iteration:  400\n",
      "[5 0 4 ... 5 6 8] [5 0 4 ... 5 6 8]\n",
      "Accuracy:  0.81525\n",
      "Iteration:  410\n",
      "[5 0 4 ... 5 6 8] [5 0 4 ... 5 6 8]\n",
      "Accuracy:  0.8174166666666667\n",
      "Iteration:  420\n",
      "[5 0 4 ... 5 6 8] [5 0 4 ... 5 6 8]\n",
      "Accuracy:  0.8195833333333333\n",
      "Iteration:  430\n",
      "[5 0 4 ... 5 6 8] [5 0 4 ... 5 6 8]\n",
      "Accuracy:  0.8218\n",
      "Iteration:  440\n",
      "[5 0 4 ... 5 6 8] [5 0 4 ... 5 6 8]\n",
      "Accuracy:  0.8241833333333334\n",
      "Iteration:  450\n",
      "[5 0 4 ... 5 6 8] [5 0 4 ... 5 6 8]\n",
      "Accuracy:  0.8259166666666666\n",
      "Iteration:  460\n",
      "[5 0 4 ... 5 6 8] [5 0 4 ... 5 6 8]\n",
      "Accuracy:  0.8276\n",
      "Iteration:  470\n",
      "[5 0 4 ... 5 6 8] [5 0 4 ... 5 6 8]\n",
      "Accuracy:  0.8295\n",
      "Iteration:  480\n",
      "[5 0 4 ... 5 6 8] [5 0 4 ... 5 6 8]\n",
      "Accuracy:  0.8313\n",
      "Iteration:  490\n",
      "[5 0 4 ... 5 6 8] [5 0 4 ... 5 6 8]\n",
      "Accuracy:  0.8326333333333333\n"
     ]
    }
   ],
   "source": [
    "# Returns the highest probability in the array\n",
    "def get_predictions(A2):\n",
    "    return np.argmax(A2, 0)\n",
    "\n",
    "# Simple accuracy function\n",
    "def get_accuracy(predictions, Y):\n",
    "    print(predictions, Y)\n",
    "    return np.sum(predictions == Y) / Y.size\n",
    "\n",
    "# Using general gradient descent\n",
    "def gradient_descent(X ,Y, iterations, alpha):\n",
    "    W1, b1, W2, b2 = init_params()\n",
    "    for i in range(iterations):\n",
    "        Z1, A1, Z2, A2 = forward_prop(W1, b1, W2, b2, X)\n",
    "        dW1, db1, dW2, db2 = back_prop(Z1, A1, Z2, A2, W1, W2, X, Y)\n",
    "        W1, b1, W2, b2 = update_params(W1, b1, W2, b2, dW1, db1, dW2, db2, alpha)\n",
    "        \n",
    "        if (i % 10 == 0): ## Every 10 iterations\n",
    "            print(\"Iteration: \", i)\n",
    "            print(\"Accuracy: \", get_accuracy(get_predictions(A2), Y))\n",
    "    return W1, b1, W2, b2\n",
    "\n",
    "W1, b1, W2, b2 = gradient_descent(X_train_flat, y_train, 500, 0.1)"
   ]
  },
  {
   "cell_type": "markdown",
   "metadata": {},
   "source": [
    "### 5.0 Visualizing Accuracy over epochs and predictions on a random set of 10 numbers."
   ]
  },
  {
   "cell_type": "code",
   "execution_count": 7,
   "metadata": {},
   "outputs": [
    {
     "data": {
      "image/png": "[encoded data removed]",
      "text/plain": [
       "<Figure size 1000x200 with 10 Axes>"
      ]
     },
     "metadata": {},
     "output_type": "display_data"
    }
   ],
   "source": [
    "def visualize_random_predictions(X_test, y_test, model, num_samples=10):\n",
    "    # Randomly select samples\n",
    "    random_indices = np.random.choice(X_test.shape[1], num_samples, replace=False)\n",
    "\n",
    "    # Get the selected images and labels\n",
    "    X_random = X_test[:, random_indices]\n",
    "    y_random = y_test[random_indices]\n",
    "\n",
    "    # Forward pass \n",
    "    Z1, A1, Z2, A2 = forward_prop(model['W1'], model['b1'], model['W2'], model['b2'], X_random)\n",
    "    predictions = get_predictions(A2)\n",
    "\n",
    "    # Plotting images + their predicted and true values\n",
    "    plt.figure(figsize=(10, 2))\n",
    "    for i in range(num_samples):\n",
    "        plt.subplot(1, num_samples, i + 1)\n",
    "        plt.imshow(X_random[:, i].reshape(28, 28), cmap='gray')\n",
    "        pred_label = predictions[i]\n",
    "        true_label = y_random[i]\n",
    "        plt.title(f\"Pred: {pred_label}\\nTrue: {true_label}\")\n",
    "        plt.axis('off')\n",
    "    plt.show()\n",
    "\n",
    "visualize_random_predictions(X_test_flat, y_test, {'W1': W1, 'b1': b1, 'W2': W2, 'b2': b2})"
   ]
  },
  {
   "cell_type": "markdown",
   "metadata": {},
   "source": [
    "### 6.0 Attempt at Stochastic Gradient Descent (SGD)\n",
    "- This is still experimental, I will finish this when I find the motivation to work on this dataset again :)"
   ]
  },
  {
   "cell_type": "code",
   "execution_count": 8,
   "metadata": {},
   "outputs": [
    {
     "name": "stdout",
     "output_type": "stream",
     "text": [
      "Iteration:  0\n",
      "[3] [5 0 4 ... 5 6 8]\n",
      "Accuracy:  0.10218333333333333\n"
     ]
    },
    {
     "name": "stderr",
     "output_type": "stream",
     "text": [
      "C:\\Users\\script.pc #93\\AppData\\Local\\Temp\\ipykernel_3788\\170867651.py:11: RuntimeWarning: overflow encountered in exp\n",
      "  return np.exp(Z) / sum(np.exp(Z))\n",
      "C:\\Users\\script.pc #93\\AppData\\Local\\Temp\\ipykernel_3788\\170867651.py:11: RuntimeWarning: invalid value encountered in divide\n",
      "  return np.exp(Z) / sum(np.exp(Z))\n"
     ]
    },
    {
     "name": "stdout",
     "output_type": "stream",
     "text": [
      "Iteration:  10\n",
      "[0] [5 0 4 ... 5 6 8]\n",
      "Accuracy:  0.09871666666666666\n"
     ]
    },
    {
     "ename": "KeyboardInterrupt",
     "evalue": "",
     "output_type": "error",
     "traceback": [
      "\u001b[1;31m---------------------------------------------------------------------------\u001b[0m",
      "\u001b[1;31mKeyboardInterrupt\u001b[0m                         Traceback (most recent call last)",
      "Cell \u001b[1;32mIn[8], line 41\u001b[0m\n\u001b[0;32m     38\u001b[0m     \u001b[38;5;66;03m# Return parameters after all iterations are complete\u001b[39;00m\n\u001b[0;32m     39\u001b[0m     \u001b[38;5;28;01mreturn\u001b[39;00m W1, b1, W2, b2\n\u001b[1;32m---> 41\u001b[0m W1, b1, W2, b2 \u001b[38;5;241m=\u001b[39m \u001b[43msgd\u001b[49m\u001b[43m(\u001b[49m\u001b[43mX_train_flat\u001b[49m\u001b[43m,\u001b[49m\u001b[43m \u001b[49m\u001b[43my_train\u001b[49m\u001b[43m,\u001b[49m\u001b[43m \u001b[49m\u001b[38;5;241;43m500\u001b[39;49m\u001b[43m,\u001b[49m\u001b[43m \u001b[49m\u001b[38;5;241;43m0.1\u001b[39;49m\u001b[43m)\u001b[49m\n",
      "Cell \u001b[1;32mIn[8], line 28\u001b[0m, in \u001b[0;36msgd\u001b[1;34m(X, Y, iterations, alpha)\u001b[0m\n\u001b[0;32m     25\u001b[0m Z1, A1, Z2, A2 \u001b[38;5;241m=\u001b[39m forward_prop(W1, b1, W2, b2, X_single)\n\u001b[0;32m     27\u001b[0m \u001b[38;5;66;03m# Backpropagation\u001b[39;00m\n\u001b[1;32m---> 28\u001b[0m dW1, db1, dW2, db2 \u001b[38;5;241m=\u001b[39m \u001b[43mback_prop_sgd\u001b[49m\u001b[43m(\u001b[49m\u001b[43mZ1\u001b[49m\u001b[43m,\u001b[49m\u001b[43m \u001b[49m\u001b[43mA1\u001b[49m\u001b[43m,\u001b[49m\u001b[43m \u001b[49m\u001b[43mZ2\u001b[49m\u001b[43m,\u001b[49m\u001b[43m \u001b[49m\u001b[43mA2\u001b[49m\u001b[43m,\u001b[49m\u001b[43m \u001b[49m\u001b[43mW1\u001b[49m\u001b[43m,\u001b[49m\u001b[43m \u001b[49m\u001b[43mW2\u001b[49m\u001b[43m,\u001b[49m\u001b[43m \u001b[49m\u001b[43mX_single\u001b[49m\u001b[43m,\u001b[49m\u001b[43m \u001b[49m\u001b[43mY_single\u001b[49m\u001b[43m)\u001b[49m\n\u001b[0;32m     30\u001b[0m \u001b[38;5;66;03m# Update parameters\u001b[39;00m\n\u001b[0;32m     31\u001b[0m W1, b1, W2, b2 \u001b[38;5;241m=\u001b[39m update_params(W1, b1, W2, b2, dW1, db1, dW2, db2, alpha)\n",
      "Cell \u001b[1;32mIn[8], line 13\u001b[0m, in \u001b[0;36mback_prop_sgd\u001b[1;34m(Z1, A1, Z2, A2, W1, W2, X, Y)\u001b[0m\n\u001b[0;32m     11\u001b[0m db2 \u001b[38;5;241m=\u001b[39m \u001b[38;5;241m1\u001b[39m \u001b[38;5;241m/\u001b[39m m \u001b[38;5;241m*\u001b[39m np\u001b[38;5;241m.\u001b[39msum(dZ2)  \u001b[38;5;66;03m# Gradient of loss wrt b2\u001b[39;00m\n\u001b[0;32m     12\u001b[0m dZ1 \u001b[38;5;241m=\u001b[39m W2\u001b[38;5;241m.\u001b[39mT\u001b[38;5;241m.\u001b[39mdot(dZ2) \u001b[38;5;241m*\u001b[39m ReLU_deriv(Z1)  \u001b[38;5;66;03m# Backprop to first layer\u001b[39;00m\n\u001b[1;32m---> 13\u001b[0m dW1 \u001b[38;5;241m=\u001b[39m \u001b[38;5;241m1\u001b[39m \u001b[38;5;241m/\u001b[39m m \u001b[38;5;241m*\u001b[39m \u001b[43mdZ1\u001b[49m\u001b[38;5;241;43m.\u001b[39;49m\u001b[43mdot\u001b[49m\u001b[43m(\u001b[49m\u001b[43mX\u001b[49m\u001b[38;5;241;43m.\u001b[39;49m\u001b[43mT\u001b[49m\u001b[43m)\u001b[49m  \u001b[38;5;66;03m# Gradient of loss wrt W1\u001b[39;00m\n\u001b[0;32m     14\u001b[0m db1 \u001b[38;5;241m=\u001b[39m \u001b[38;5;241m1\u001b[39m \u001b[38;5;241m/\u001b[39m m \u001b[38;5;241m*\u001b[39m np\u001b[38;5;241m.\u001b[39msum(dZ1)  \u001b[38;5;66;03m# Gradient of loss wrt b1\u001b[39;00m\n\u001b[0;32m     15\u001b[0m \u001b[38;5;28;01mreturn\u001b[39;00m dW1, db1, dW2, db2\n",
      "\u001b[1;31mKeyboardInterrupt\u001b[0m: "
     ]
    }
   ],
   "source": [
    "def one_hot_sgd(Y):\n",
    "    one_hot_Y = np.zeros((10,1)) ## Taking 10 for 10 classes\n",
    "    one_hot_Y[Y] =1\n",
    "    return one_hot_Y\n",
    "\n",
    "def back_prop_sgd(Z1, A1, Z2, A2, W1, W2, X, Y):\n",
    "    m = 1  # m is size 1 as we are doing SGD, each backprop is size 1\n",
    "    one_hot_Y = one_hot_sgd(Y)  # One-hot encode the label\n",
    "    dZ2 = A2 - one_hot_Y  # Difference between predicted output, A2, and Y prediction (the residual)\n",
    "    dW2 = 1 / m * dZ2.dot(A1.T)  # Gradient of loss wrt W2\n",
    "    db2 = 1 / m * np.sum(dZ2)  # Gradient of loss wrt b2\n",
    "    dZ1 = W2.T.dot(dZ2) * ReLU_deriv(Z1)  # Backprop to first layer\n",
    "    dW1 = 1 / m * dZ1.dot(X.T)  # Gradient of loss wrt W1\n",
    "    db1 = 1 / m * np.sum(dZ1)  # Gradient of loss wrt b1\n",
    "    return dW1, db1, dW2, db2\n",
    "\n",
    "def sgd(X, Y, iterations, alpha):\n",
    "    W1, b1, W2, b2 = init_params()  \n",
    "    for i in range(iterations):  \n",
    "        for j in range(X.shape[1]):  # Iterate over each sample (SGD)\n",
    "            X_single = X[:, j:j+1]  # Select a single column from X (one sample)\n",
    "            Y_single = Y[j] # Select single Y\n",
    "            \n",
    "            # Forward propagation\n",
    "            Z1, A1, Z2, A2 = forward_prop(W1, b1, W2, b2, X_single)\n",
    "            \n",
    "            # Backpropagation\n",
    "            dW1, db1, dW2, db2 = back_prop_sgd(Z1, A1, Z2, A2, W1, W2, X_single, Y_single)\n",
    "            \n",
    "            # Update parameters\n",
    "            W1, b1, W2, b2 = update_params(W1, b1, W2, b2, dW1, db1, dW2, db2, alpha)\n",
    "        \n",
    "        # Print accuracy every 10 iterations\n",
    "        if (i % 10 == 0):\n",
    "            print(\"Iteration: \", i)\n",
    "            print(\"Accuracy: \", get_accuracy(get_predictions(A2), Y))\n",
    "    \n",
    "    # Return parameters after all iterations are complete\n",
    "    return W1, b1, W2, b2\n",
    "\n",
    "W1, b1, W2, b2 = sgd(X_train_flat, y_train, 500, 0.1)"
   ]
  }
 ],
 "metadata": {
  "kernelspec": {
   "display_name": "Python 3",
   "language": "python",
   "name": "python3"
  },
  "language_info": {
   "codemirror_mode": {
    "name": "ipython",
    "version": 3
   },
   "file_extension": ".py",
   "mimetype": "text/x-python",
   "name": "python",
   "nbconvert_exporter": "python",
   "pygments_lexer": "ipython3",
   "version": "3.12.4"
  }
 },
 "nbformat": 4,
 "nbformat_minor": 2
}
